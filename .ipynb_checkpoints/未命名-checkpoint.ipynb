{
 "cells": [
  {
   "cell_type": "code",
   "execution_count": 127,
   "metadata": {},
   "outputs": [],
   "source": [
    "import pandas as pd\n",
    "import matplotlib.pyplot as plt"
   ]
  },
  {
   "cell_type": "code",
   "execution_count": 88,
   "metadata": {},
   "outputs": [],
   "source": [
    "path = '/home/mi/桌面/2021_02_07_08_51_05_300-accel-52HZ.csv'"
   ]
  },
  {
   "cell_type": "code",
   "execution_count": 93,
   "metadata": {},
   "outputs": [],
   "source": [
    "data = pd.read_csv(path, header = 1)"
   ]
  },
  {
   "cell_type": "code",
   "execution_count": 94,
   "metadata": {},
   "outputs": [
    {
     "data": {
      "text/html": [
       "<div>\n",
       "<style scoped>\n",
       "    .dataframe tbody tr th:only-of-type {\n",
       "        vertical-align: middle;\n",
       "    }\n",
       "\n",
       "    .dataframe tbody tr th {\n",
       "        vertical-align: top;\n",
       "    }\n",
       "\n",
       "    .dataframe thead th {\n",
       "        text-align: right;\n",
       "    }\n",
       "</style>\n",
       "<table border=\"1\" class=\"dataframe\">\n",
       "  <thead>\n",
       "    <tr style=\"text-align: right;\">\n",
       "      <th></th>\n",
       "      <th>CurrentTimeMillis</th>\n",
       "      <th>EventTimestamp(ns)</th>\n",
       "      <th>accel_x</th>\n",
       "      <th>accel_y</th>\n",
       "      <th>accel_z</th>\n",
       "    </tr>\n",
       "  </thead>\n",
       "  <tbody>\n",
       "    <tr>\n",
       "      <th>0</th>\n",
       "      <td>1612659065666</td>\n",
       "      <td>48574503804218</td>\n",
       "      <td>-0.669893</td>\n",
       "      <td>-0.879496</td>\n",
       "      <td>9.670463</td>\n",
       "    </tr>\n",
       "    <tr>\n",
       "      <th>1</th>\n",
       "      <td>1612659065666</td>\n",
       "      <td>48574523518593</td>\n",
       "      <td>-0.631588</td>\n",
       "      <td>-1.047083</td>\n",
       "      <td>9.775804</td>\n",
       "    </tr>\n",
       "    <tr>\n",
       "      <th>2</th>\n",
       "      <td>1612659065666</td>\n",
       "      <td>48574543232916</td>\n",
       "      <td>-0.511883</td>\n",
       "      <td>-0.999201</td>\n",
       "      <td>9.881144</td>\n",
       "    </tr>\n",
       "    <tr>\n",
       "      <th>3</th>\n",
       "      <td>1612659065666</td>\n",
       "      <td>48574562947291</td>\n",
       "      <td>-0.511883</td>\n",
       "      <td>-0.879496</td>\n",
       "      <td>9.814108</td>\n",
       "    </tr>\n",
       "    <tr>\n",
       "      <th>4</th>\n",
       "      <td>1612659065666</td>\n",
       "      <td>48574582661666</td>\n",
       "      <td>-0.464001</td>\n",
       "      <td>-0.606569</td>\n",
       "      <td>9.718345</td>\n",
       "    </tr>\n",
       "  </tbody>\n",
       "</table>\n",
       "</div>"
      ],
      "text/plain": [
       "   CurrentTimeMillis  EventTimestamp(ns)   accel_x   accel_y   accel_z\n",
       "0      1612659065666      48574503804218 -0.669893 -0.879496  9.670463\n",
       "1      1612659065666      48574523518593 -0.631588 -1.047083  9.775804\n",
       "2      1612659065666      48574543232916 -0.511883 -0.999201  9.881144\n",
       "3      1612659065666      48574562947291 -0.511883 -0.879496  9.814108\n",
       "4      1612659065666      48574582661666 -0.464001 -0.606569  9.718345"
      ]
     },
     "execution_count": 94,
     "metadata": {},
     "output_type": "execute_result"
    }
   ],
   "source": [
    "data.head()"
   ]
  },
  {
   "cell_type": "code",
   "execution_count": 121,
   "metadata": {},
   "outputs": [
    {
     "name": "stdout",
     "output_type": "stream",
     "text": [
      "-0.66989326\n"
     ]
    }
   ],
   "source": [
    "i = 0\n",
    "for index, val in data.iterrows():\n",
    "    if i > 0: break\n",
    "    print(val.accel_x)\n",
    "    i+=1"
   ]
  },
  {
   "cell_type": "code",
   "execution_count": 124,
   "metadata": {},
   "outputs": [
    {
     "data": {
      "text/plain": [
       "RangeIndex(start=0, stop=212418, step=1)"
      ]
     },
     "execution_count": 124,
     "metadata": {},
     "output_type": "execute_result"
    }
   ],
   "source": [
    "d.index"
   ]
  },
  {
   "cell_type": "code",
   "execution_count": null,
   "metadata": {},
   "outputs": [],
   "source": []
  },
  {
   "cell_type": "code",
   "execution_count": 133,
   "metadata": {},
   "outputs": [],
   "source": [
    "data['datetime'] = pd.to_datetime(data['CurrentTimeMillis'], unit = 'ms').apply(lambda x: x.strftime('%Y-%m-%d %H:%M:%S'))"
   ]
  },
  {
   "cell_type": "code",
   "execution_count": null,
   "metadata": {},
   "outputs": [],
   "source": [
    "plt.plot(data['datetime'], data['accel_x'])\n",
    "plt.show()"
   ]
  },
  {
   "cell_type": "code",
   "execution_count": 98,
   "metadata": {},
   "outputs": [
    {
     "data": {
      "text/plain": [
       "0         2021-02-07 00:51:05\n",
       "1         2021-02-07 00:51:05\n",
       "2         2021-02-07 00:51:05\n",
       "3         2021-02-07 00:51:05\n",
       "4         2021-02-07 00:51:05\n",
       "                 ...         \n",
       "212413    2021-02-07 01:59:55\n",
       "212414    2021-02-07 01:59:55\n",
       "212415    2021-02-07 01:59:55\n",
       "212416    2021-02-07 01:59:55\n",
       "212417    2021-02-07 01:59:55\n",
       "Name: CurrentTimeMillis, Length: 212418, dtype: object"
      ]
     },
     "execution_count": 98,
     "metadata": {},
     "output_type": "execute_result"
    }
   ],
   "source": [
    "d.apply(lambda x: x.strftime('%Y-%m-%d %H:%M:%S'))"
   ]
  },
  {
   "cell_type": "code",
   "execution_count": null,
   "metadata": {},
   "outputs": [],
   "source": []
  },
  {
   "cell_type": "code",
   "execution_count": null,
   "metadata": {},
   "outputs": [],
   "source": []
  }
 ],
 "metadata": {
  "kernelspec": {
   "display_name": "Python 3",
   "language": "python",
   "name": "python3"
  },
  "language_info": {
   "codemirror_mode": {
    "name": "ipython",
    "version": 3
   },
   "file_extension": ".py",
   "mimetype": "text/x-python",
   "name": "python",
   "nbconvert_exporter": "python",
   "pygments_lexer": "ipython3",
   "version": "3.7.6"
  }
 },
 "nbformat": 4,
 "nbformat_minor": 4
}
