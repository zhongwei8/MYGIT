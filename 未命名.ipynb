{
 "cells": [
  {
   "cell_type": "code",
   "execution_count": 31,
   "metadata": {},
   "outputs": [],
   "source": [
    "import numpy as np\n",
    "import pandas as pd"
   ]
  },
  {
   "cell_type": "code",
   "execution_count": 32,
   "metadata": {},
   "outputs": [],
   "source": [
    "arr = np.random.normal(10, 10, (3, 2))"
   ]
  },
  {
   "cell_type": "code",
   "execution_count": 40,
   "metadata": {},
   "outputs": [
    {
     "data": {
      "text/plain": [
       "140597975026624"
      ]
     },
     "execution_count": 40,
     "metadata": {},
     "output_type": "execute_result"
    }
   ],
   "source": [
    "id(arr)"
   ]
  },
  {
   "cell_type": "code",
   "execution_count": 50,
   "metadata": {},
   "outputs": [
    {
     "data": {
      "text/plain": [
       "140597949128576"
      ]
     },
     "execution_count": 50,
     "metadata": {},
     "output_type": "execute_result"
    }
   ],
   "source": [
    "id(df.values)"
   ]
  },
  {
   "cell_type": "code",
   "execution_count": 33,
   "metadata": {},
   "outputs": [],
   "source": [
    "arr[0, 1] = 3"
   ]
  },
  {
   "cell_type": "code",
   "execution_count": 76,
   "metadata": {},
   "outputs": [
    {
     "data": {
      "text/plain": [
       "(True, False)"
      ]
     },
     "execution_count": 76,
     "metadata": {},
     "output_type": "execute_result"
    }
   ],
   "source": [
    "arr.flags.owndata, df.values.flags.owndata"
   ]
  },
  {
   "cell_type": "code",
   "execution_count": 78,
   "metadata": {},
   "outputs": [
    {
     "data": {
      "text/plain": [
       "False"
      ]
     },
     "execution_count": 78,
     "metadata": {},
     "output_type": "execute_result"
    }
   ],
   "source": [
    "df.iloc[:, :].values.flags.owndata"
   ]
  },
  {
   "cell_type": "code",
   "execution_count": 51,
   "metadata": {},
   "outputs": [],
   "source": [
    "arr[0, 0] = 3"
   ]
  },
  {
   "cell_type": "code",
   "execution_count": 69,
   "metadata": {},
   "outputs": [],
   "source": [
    "df.values[0, 0] = -100"
   ]
  },
  {
   "cell_type": "code",
   "execution_count": 70,
   "metadata": {},
   "outputs": [
    {
     "data": {
      "text/html": [
       "<div>\n",
       "<style scoped>\n",
       "    .dataframe tbody tr th:only-of-type {\n",
       "        vertical-align: middle;\n",
       "    }\n",
       "\n",
       "    .dataframe tbody tr th {\n",
       "        vertical-align: top;\n",
       "    }\n",
       "\n",
       "    .dataframe thead th {\n",
       "        text-align: right;\n",
       "    }\n",
       "</style>\n",
       "<table border=\"1\" class=\"dataframe\">\n",
       "  <thead>\n",
       "    <tr style=\"text-align: right;\">\n",
       "      <th></th>\n",
       "      <th>a</th>\n",
       "      <th>b</th>\n",
       "    </tr>\n",
       "  </thead>\n",
       "  <tbody>\n",
       "    <tr>\n",
       "      <th>0</th>\n",
       "      <td>-100.000000</td>\n",
       "      <td>3.000000</td>\n",
       "    </tr>\n",
       "    <tr>\n",
       "      <th>1</th>\n",
       "      <td>10.266603</td>\n",
       "      <td>3.030181</td>\n",
       "    </tr>\n",
       "    <tr>\n",
       "      <th>2</th>\n",
       "      <td>8.853013</td>\n",
       "      <td>13.000104</td>\n",
       "    </tr>\n",
       "  </tbody>\n",
       "</table>\n",
       "</div>"
      ],
      "text/plain": [
       "            a          b\n",
       "0 -100.000000   3.000000\n",
       "1   10.266603   3.030181\n",
       "2    8.853013  13.000104"
      ]
     },
     "execution_count": 70,
     "metadata": {},
     "output_type": "execute_result"
    }
   ],
   "source": [
    "df"
   ]
  },
  {
   "cell_type": "code",
   "execution_count": 46,
   "metadata": {},
   "outputs": [],
   "source": [
    "df = pd.DataFrame(arr, columns = ['a', 'b'])"
   ]
  },
  {
   "cell_type": "code",
   "execution_count": 66,
   "metadata": {},
   "outputs": [
    {
     "data": {
      "text/plain": [
       "(140597966537104, 140597966537104)"
      ]
     },
     "execution_count": 66,
     "metadata": {},
     "output_type": "execute_result"
    }
   ],
   "source": [
    "id(df.iloc[:, :]), id(df)"
   ]
  },
  {
   "cell_type": "code",
   "execution_count": 68,
   "metadata": {},
   "outputs": [
    {
     "data": {
      "text/plain": [
       "(False, True)"
      ]
     },
     "execution_count": 68,
     "metadata": {},
     "output_type": "execute_result"
    }
   ],
   "source": [
    "id(df) is id(df.iloc[:, :]), id(df) == id(df.iloc[:, :])"
   ]
  },
  {
   "cell_type": "code",
   "execution_count": 37,
   "metadata": {},
   "outputs": [],
   "source": [
    "def test(df):\n",
    "    print(id(df))\n",
    "    df.iloc[0, 0] = 1\n",
    "    return df"
   ]
  },
  {
   "cell_type": "code",
   "execution_count": 38,
   "metadata": {},
   "outputs": [
    {
     "name": "stdout",
     "output_type": "stream",
     "text": [
      "140597973789840\n"
     ]
    },
    {
     "data": {
      "text/html": [
       "<div>\n",
       "<style scoped>\n",
       "    .dataframe tbody tr th:only-of-type {\n",
       "        vertical-align: middle;\n",
       "    }\n",
       "\n",
       "    .dataframe tbody tr th {\n",
       "        vertical-align: top;\n",
       "    }\n",
       "\n",
       "    .dataframe thead th {\n",
       "        text-align: right;\n",
       "    }\n",
       "</style>\n",
       "<table border=\"1\" class=\"dataframe\">\n",
       "  <thead>\n",
       "    <tr style=\"text-align: right;\">\n",
       "      <th></th>\n",
       "      <th>a</th>\n",
       "      <th>b</th>\n",
       "    </tr>\n",
       "  </thead>\n",
       "  <tbody>\n",
       "    <tr>\n",
       "      <th>0</th>\n",
       "      <td>1.000000</td>\n",
       "      <td>3.000000</td>\n",
       "    </tr>\n",
       "    <tr>\n",
       "      <th>1</th>\n",
       "      <td>10.266603</td>\n",
       "      <td>3.030181</td>\n",
       "    </tr>\n",
       "    <tr>\n",
       "      <th>2</th>\n",
       "      <td>8.853013</td>\n",
       "      <td>13.000104</td>\n",
       "    </tr>\n",
       "  </tbody>\n",
       "</table>\n",
       "</div>"
      ],
      "text/plain": [
       "           a          b\n",
       "0   1.000000   3.000000\n",
       "1  10.266603   3.030181\n",
       "2   8.853013  13.000104"
      ]
     },
     "execution_count": 38,
     "metadata": {},
     "output_type": "execute_result"
    }
   ],
   "source": [
    "test(df)"
   ]
  },
  {
   "cell_type": "code",
   "execution_count": 23,
   "metadata": {},
   "outputs": [
    {
     "data": {
      "text/html": [
       "<div>\n",
       "<style scoped>\n",
       "    .dataframe tbody tr th:only-of-type {\n",
       "        vertical-align: middle;\n",
       "    }\n",
       "\n",
       "    .dataframe tbody tr th {\n",
       "        vertical-align: top;\n",
       "    }\n",
       "\n",
       "    .dataframe thead th {\n",
       "        text-align: right;\n",
       "    }\n",
       "</style>\n",
       "<table border=\"1\" class=\"dataframe\">\n",
       "  <thead>\n",
       "    <tr style=\"text-align: right;\">\n",
       "      <th></th>\n",
       "      <th>a</th>\n",
       "      <th>b</th>\n",
       "      <th>c</th>\n",
       "    </tr>\n",
       "  </thead>\n",
       "  <tbody>\n",
       "    <tr>\n",
       "      <th>0</th>\n",
       "      <td>0.000000</td>\n",
       "      <td>13.345815</td>\n",
       "      <td>17.003526</td>\n",
       "    </tr>\n",
       "    <tr>\n",
       "      <th>1</th>\n",
       "      <td>10.984075</td>\n",
       "      <td>24.152888</td>\n",
       "      <td>25.181038</td>\n",
       "    </tr>\n",
       "    <tr>\n",
       "      <th>2</th>\n",
       "      <td>20.356930</td>\n",
       "      <td>2.092596</td>\n",
       "      <td>11.256909</td>\n",
       "    </tr>\n",
       "    <tr>\n",
       "      <th>3</th>\n",
       "      <td>-7.788763</td>\n",
       "      <td>17.251363</td>\n",
       "      <td>18.079046</td>\n",
       "    </tr>\n",
       "    <tr>\n",
       "      <th>4</th>\n",
       "      <td>14.081156</td>\n",
       "      <td>4.402983</td>\n",
       "      <td>12.778452</td>\n",
       "    </tr>\n",
       "    <tr>\n",
       "      <th>5</th>\n",
       "      <td>8.378902</td>\n",
       "      <td>27.234727</td>\n",
       "      <td>21.537407</td>\n",
       "    </tr>\n",
       "    <tr>\n",
       "      <th>6</th>\n",
       "      <td>20.689117</td>\n",
       "      <td>-1.519983</td>\n",
       "      <td>22.868932</td>\n",
       "    </tr>\n",
       "    <tr>\n",
       "      <th>7</th>\n",
       "      <td>3.013332</td>\n",
       "      <td>13.539505</td>\n",
       "      <td>1.400438</td>\n",
       "    </tr>\n",
       "    <tr>\n",
       "      <th>8</th>\n",
       "      <td>-2.870640</td>\n",
       "      <td>2.132458</td>\n",
       "      <td>12.486637</td>\n",
       "    </tr>\n",
       "    <tr>\n",
       "      <th>9</th>\n",
       "      <td>7.748373</td>\n",
       "      <td>-6.953009</td>\n",
       "      <td>1.343720</td>\n",
       "    </tr>\n",
       "  </tbody>\n",
       "</table>\n",
       "</div>"
      ],
      "text/plain": [
       "           a          b          c\n",
       "0   0.000000  13.345815  17.003526\n",
       "1  10.984075  24.152888  25.181038\n",
       "2  20.356930   2.092596  11.256909\n",
       "3  -7.788763  17.251363  18.079046\n",
       "4  14.081156   4.402983  12.778452\n",
       "5   8.378902  27.234727  21.537407\n",
       "6  20.689117  -1.519983  22.868932\n",
       "7   3.013332  13.539505   1.400438\n",
       "8  -2.870640   2.132458  12.486637\n",
       "9   7.748373  -6.953009   1.343720"
      ]
     },
     "execution_count": 23,
     "metadata": {},
     "output_type": "execute_result"
    }
   ],
   "source": [
    "df"
   ]
  },
  {
   "cell_type": "code",
   "execution_count": 24,
   "metadata": {},
   "outputs": [
    {
     "data": {
      "text/plain": [
       "array([[ 0.        , 13.34581504, 17.0035259 ],\n",
       "       [10.98407499, 24.15288827, 25.18103774],\n",
       "       [20.35692965,  2.09259606, 11.25690885],\n",
       "       [-7.78876304, 17.25136329, 18.0790455 ],\n",
       "       [14.08115603,  4.40298275, 12.77845183],\n",
       "       [ 8.37890186, 27.23472694, 21.53740712],\n",
       "       [20.6891167 , -1.51998262, 22.86893158],\n",
       "       [ 3.01333184, 13.53950462,  1.40043752],\n",
       "       [-2.8706399 ,  2.13245829, 12.48663662],\n",
       "       [ 7.7483729 , -6.95300902,  1.34371956]])"
      ]
     },
     "execution_count": 24,
     "metadata": {},
     "output_type": "execute_result"
    }
   ],
   "source": [
    "arr"
   ]
  },
  {
   "cell_type": "code",
   "execution_count": 26,
   "metadata": {},
   "outputs": [
    {
     "data": {
      "text/plain": [
       "12.659926287538113"
      ]
     },
     "execution_count": 26,
     "metadata": {},
     "output_type": "execute_result"
    }
   ],
   "source": [
    "a"
   ]
  },
  {
   "cell_type": "code",
   "execution_count": 27,
   "metadata": {},
   "outputs": [
    {
     "data": {
      "text/plain": [
       "array([[22.65992629]])"
      ]
     },
     "execution_count": 27,
     "metadata": {},
     "output_type": "execute_result"
    }
   ],
   "source": [
    "b"
   ]
  },
  {
   "cell_type": "code",
   "execution_count": 32,
   "metadata": {},
   "outputs": [
    {
     "data": {
      "text/plain": [
       "array([[10.78276309, 22.65992629,  7.80626587],\n",
       "       [19.53123286, 31.48644925,  9.36254057],\n",
       "       [22.54812468, 22.80244023, 17.79821949],\n",
       "       [ 4.66668338, 47.78010345,  6.88981175],\n",
       "       [ 9.13291101, 21.97648248, 27.23611694],\n",
       "       [24.4401901 , 36.78733261, 18.26561618],\n",
       "       [17.64695695,  6.24631652,  1.4409482 ],\n",
       "       [18.55793308, 19.94417017, -0.16571184],\n",
       "       [-2.43223166, 42.27359383, 31.02579337],\n",
       "       [ 2.08955311, 12.29812559,  7.82407124]])"
      ]
     },
     "execution_count": 32,
     "metadata": {},
     "output_type": "execute_result"
    }
   ],
   "source": [
    "arr"
   ]
  },
  {
   "cell_type": "code",
   "execution_count": 28,
   "metadata": {},
   "outputs": [],
   "source": [
    "mask = np.array([0, 3, 4])"
   ]
  },
  {
   "cell_type": "code",
   "execution_count": 31,
   "metadata": {},
   "outputs": [],
   "source": [
    "masked = arr[mask]"
   ]
  },
  {
   "cell_type": "code",
   "execution_count": 35,
   "metadata": {},
   "outputs": [],
   "source": [
    "masked[0:1, 0:1] = -1"
   ]
  },
  {
   "cell_type": "code",
   "execution_count": 36,
   "metadata": {},
   "outputs": [
    {
     "data": {
      "text/plain": [
       "array([[-1.        , 22.65992629,  7.80626587],\n",
       "       [ 4.66668338, 47.78010345,  6.88981175],\n",
       "       [ 9.13291101, 21.97648248, 27.23611694]])"
      ]
     },
     "execution_count": 36,
     "metadata": {},
     "output_type": "execute_result"
    }
   ],
   "source": [
    "masked"
   ]
  },
  {
   "cell_type": "code",
   "execution_count": 37,
   "metadata": {},
   "outputs": [
    {
     "data": {
      "text/plain": [
       "array([[10.78276309, 22.65992629,  7.80626587],\n",
       "       [19.53123286, 31.48644925,  9.36254057],\n",
       "       [22.54812468, 22.80244023, 17.79821949],\n",
       "       [ 4.66668338, 47.78010345,  6.88981175],\n",
       "       [ 9.13291101, 21.97648248, 27.23611694],\n",
       "       [24.4401901 , 36.78733261, 18.26561618],\n",
       "       [17.64695695,  6.24631652,  1.4409482 ],\n",
       "       [18.55793308, 19.94417017, -0.16571184],\n",
       "       [-2.43223166, 42.27359383, 31.02579337],\n",
       "       [ 2.08955311, 12.29812559,  7.82407124]])"
      ]
     },
     "execution_count": 37,
     "metadata": {},
     "output_type": "execute_result"
    }
   ],
   "source": [
    "arr"
   ]
  },
  {
   "cell_type": "code",
   "execution_count": 40,
   "metadata": {},
   "outputs": [],
   "source": [
    "mask = [True, True] + [False] * 8"
   ]
  },
  {
   "cell_type": "code",
   "execution_count": 42,
   "metadata": {},
   "outputs": [],
   "source": [
    "masked = arr[mask]"
   ]
  },
  {
   "cell_type": "code",
   "execution_count": 43,
   "metadata": {},
   "outputs": [
    {
     "data": {
      "text/plain": [
       "array([[10.78276309, 22.65992629,  7.80626587],\n",
       "       [19.53123286, 31.48644925,  9.36254057],\n",
       "       [22.54812468, 22.80244023, 17.79821949],\n",
       "       [ 4.66668338, 47.78010345,  6.88981175],\n",
       "       [ 9.13291101, 21.97648248, 27.23611694],\n",
       "       [24.4401901 , 36.78733261, 18.26561618],\n",
       "       [17.64695695,  6.24631652,  1.4409482 ],\n",
       "       [18.55793308, 19.94417017, -0.16571184],\n",
       "       [-2.43223166, 42.27359383, 31.02579337],\n",
       "       [ 2.08955311, 12.29812559,  7.82407124]])"
      ]
     },
     "execution_count": 43,
     "metadata": {},
     "output_type": "execute_result"
    }
   ],
   "source": [
    "arr"
   ]
  },
  {
   "cell_type": "code",
   "execution_count": 45,
   "metadata": {},
   "outputs": [],
   "source": [
    "masked[:, 1] = -1"
   ]
  },
  {
   "cell_type": "code",
   "execution_count": 46,
   "metadata": {},
   "outputs": [
    {
     "data": {
      "text/plain": [
       "array([[10.78276309, -1.        ,  7.80626587],\n",
       "       [19.53123286, -1.        ,  9.36254057]])"
      ]
     },
     "execution_count": 46,
     "metadata": {},
     "output_type": "execute_result"
    }
   ],
   "source": [
    "masked"
   ]
  },
  {
   "cell_type": "code",
   "execution_count": 47,
   "metadata": {},
   "outputs": [
    {
     "data": {
      "text/plain": [
       "array([[10.78276309, 22.65992629,  7.80626587],\n",
       "       [19.53123286, 31.48644925,  9.36254057],\n",
       "       [22.54812468, 22.80244023, 17.79821949],\n",
       "       [ 4.66668338, 47.78010345,  6.88981175],\n",
       "       [ 9.13291101, 21.97648248, 27.23611694],\n",
       "       [24.4401901 , 36.78733261, 18.26561618],\n",
       "       [17.64695695,  6.24631652,  1.4409482 ],\n",
       "       [18.55793308, 19.94417017, -0.16571184],\n",
       "       [-2.43223166, 42.27359383, 31.02579337],\n",
       "       [ 2.08955311, 12.29812559,  7.82407124]])"
      ]
     },
     "execution_count": 47,
     "metadata": {},
     "output_type": "execute_result"
    }
   ],
   "source": [
    "arr"
   ]
  },
  {
   "cell_type": "code",
   "execution_count": 48,
   "metadata": {},
   "outputs": [
    {
     "data": {
      "text/plain": [
       "array([[10.78276309, 22.65992629,  7.80626587],\n",
       "       [19.53123286, 31.48644925,  9.36254057],\n",
       "       [22.54812468, 22.80244023, 17.79821949],\n",
       "       [ 4.66668338, 47.78010345,  6.88981175],\n",
       "       [ 9.13291101, 21.97648248, 27.23611694],\n",
       "       [24.4401901 , 36.78733261, 18.26561618],\n",
       "       [17.64695695,  6.24631652,  1.4409482 ],\n",
       "       [18.55793308, 19.94417017, -0.16571184],\n",
       "       [-2.43223166, 42.27359383, 31.02579337],\n",
       "       [ 2.08955311, 12.29812559,  7.82407124]])"
      ]
     },
     "execution_count": 48,
     "metadata": {},
     "output_type": "execute_result"
    }
   ],
   "source": [
    "arr"
   ]
  },
  {
   "cell_type": "code",
   "execution_count": 49,
   "metadata": {},
   "outputs": [],
   "source": [
    "b = arr"
   ]
  },
  {
   "cell_type": "code",
   "execution_count": 50,
   "metadata": {},
   "outputs": [
    {
     "data": {
      "text/plain": [
       "140106190568864"
      ]
     },
     "execution_count": 50,
     "metadata": {},
     "output_type": "execute_result"
    }
   ],
   "source": [
    "id(b)"
   ]
  },
  {
   "cell_type": "code",
   "execution_count": 51,
   "metadata": {},
   "outputs": [
    {
     "data": {
      "text/plain": [
       "140106190568864"
      ]
     },
     "execution_count": 51,
     "metadata": {},
     "output_type": "execute_result"
    }
   ],
   "source": [
    "id(arr)"
   ]
  },
  {
   "cell_type": "code",
   "execution_count": null,
   "metadata": {},
   "outputs": [],
   "source": []
  }
 ],
 "metadata": {
  "kernelspec": {
   "display_name": "Python 3",
   "language": "python",
   "name": "python3"
  },
  "language_info": {
   "codemirror_mode": {
    "name": "ipython",
    "version": 3
   },
   "file_extension": ".py",
   "mimetype": "text/x-python",
   "name": "python",
   "nbconvert_exporter": "python",
   "pygments_lexer": "ipython3",
   "version": "3.7.6"
  }
 },
 "nbformat": 4,
 "nbformat_minor": 4
}
