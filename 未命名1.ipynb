{
 "cells": [
  {
   "cell_type": "code",
   "execution_count": 253,
   "metadata": {},
   "outputs": [],
   "source": [
    "import pandas as pd\n",
    "from datetime import datetime"
   ]
  },
  {
   "cell_type": "code",
   "execution_count": 254,
   "metadata": {},
   "outputs": [],
   "source": [
    "path = '/home/mi/桌面/2021_02_07_08_51_05_300-accel-52HZ.csv'"
   ]
  },
  {
   "cell_type": "code",
   "execution_count": 255,
   "metadata": {},
   "outputs": [],
   "source": [
    "df = pd.read_csv(path,header = 1)"
   ]
  },
  {
   "cell_type": "code",
   "execution_count": 256,
   "metadata": {},
   "outputs": [],
   "source": [
    "ms_base = df['CurrentTimeMillis'].values[0]\n",
    "ns_delta = df['EventTimestamp(ns)'].values - df['EventTimestamp(ns)'].values[0]\n",
    "ms_delta = ns_delta / 10e6\n",
    "ms = ms_delta + ms_base"
   ]
  },
  {
   "cell_type": "code",
   "execution_count": 257,
   "metadata": {},
   "outputs": [],
   "source": [
    "dt = [datetime.fromtimestamp(m / 1000) for m in ms]"
   ]
  },
  {
   "cell_type": "code",
   "execution_count": 271,
   "metadata": {},
   "outputs": [
    {
     "data": {
      "text/plain": [
       "<function datetime.time>"
      ]
     },
     "execution_count": 271,
     "metadata": {},
     "output_type": "execute_result"
    }
   ],
   "source": [
    "dt[0].time"
   ]
  },
  {
   "cell_type": "code",
   "execution_count": 259,
   "metadata": {},
   "outputs": [
    {
     "data": {
      "text/plain": [
       "[datetime.datetime(2021, 2, 7, 8, 57, 58, 608196),\n",
       " datetime.datetime(2021, 2, 7, 8, 57, 58, 610128),\n",
       " datetime.datetime(2021, 2, 7, 8, 57, 58, 612060),\n",
       " datetime.datetime(2021, 2, 7, 8, 57, 58, 613992),\n",
       " datetime.datetime(2021, 2, 7, 8, 57, 58, 615924),\n",
       " datetime.datetime(2021, 2, 7, 8, 57, 58, 617855),\n",
       " datetime.datetime(2021, 2, 7, 8, 57, 58, 619787),\n",
       " datetime.datetime(2021, 2, 7, 8, 57, 58, 621719),\n",
       " datetime.datetime(2021, 2, 7, 8, 57, 58, 623651),\n",
       " datetime.datetime(2021, 2, 7, 8, 57, 58, 625582)]"
      ]
     },
     "execution_count": 259,
     "metadata": {},
     "output_type": "execute_result"
    }
   ],
   "source": [
    "dt[-10:]"
   ]
  },
  {
   "cell_type": "code",
   "execution_count": 265,
   "metadata": {},
   "outputs": [
    {
     "data": {
      "text/plain": [
       "1612663195261.8228"
      ]
     },
     "execution_count": 265,
     "metadata": {},
     "output_type": "execute_result"
    }
   ],
   "source": [
    "1612659065666+(52704099627015/1e6-48574503804218/1e6)"
   ]
  },
  {
   "cell_type": "code",
   "execution_count": 266,
   "metadata": {},
   "outputs": [
    {
     "data": {
      "text/plain": [
       "1612663195261.8228"
      ]
     },
     "execution_count": 266,
     "metadata": {},
     "output_type": "execute_result"
    }
   ],
   "source": [
    "1612659065666+(52704099627015-48574503804218)/1e6"
   ]
  },
  {
   "cell_type": "code",
   "execution_count": null,
   "metadata": {},
   "outputs": [],
   "source": []
  }
 ],
 "metadata": {
  "kernelspec": {
   "display_name": "Python 3",
   "language": "python",
   "name": "python3"
  },
  "language_info": {
   "codemirror_mode": {
    "name": "ipython",
    "version": 3
   },
   "file_extension": ".py",
   "mimetype": "text/x-python",
   "name": "python",
   "nbconvert_exporter": "python",
   "pygments_lexer": "ipython3",
   "version": "3.7.6"
  }
 },
 "nbformat": 4,
 "nbformat_minor": 4
}
